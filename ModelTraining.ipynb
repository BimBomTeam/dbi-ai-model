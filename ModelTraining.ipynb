{
 "cells": [
  {
   "cell_type": "code",
   "execution_count": null,
   "metadata": {},
   "outputs": [],
   "source": [
    "import tensorflow as tf\n",
    "from tensorflow import keras\n",
    "from keras.layers import Dense, Flatten, MaxPooling2D, Conv2D, Dropout, BatchNormalization\n",
    "from keras.preprocessing.image import ImageDataGenerator\n",
    "from PIL import Image\n",
    "import matplotlib.pyplot as plt\n",
    "from keras.callbacks import History\n",
    "from keras.callbacks import ModelCheckpoint"
   ]
  },
  {
   "cell_type": "code",
   "execution_count": null,
   "metadata": {},
   "outputs": [],
   "source": [
    "print(\"Num GPUs Available: \", len(tf.config.list_physical_devices('GPU')))"
   ]
  },
  {
   "cell_type": "code",
   "execution_count": null,
   "metadata": {},
   "outputs": [],
   "source": [
    "datagen = ImageDataGenerator(rescale=1.0 / 255.0)\n",
    "train_generator = datagen.flow_from_directory(\n",
    "    '/mnt/d/My projects/programs/Python projects/dbi-ai-model/res/archive_300x300_30class/dogImages/dogImages/train',\n",
    "    #'res\\\\archive_300x300_30class\\dogImages\\dogImages\\\\train',\n",
    "    target_size=(300, 300),\n",
    "    batch_size=32,\n",
    "    class_mode='categorical')\n",
    "\n",
    "valid_generator = datagen.flow_from_directory(\n",
    "    '/mnt/d/My projects/programs/Python projects/dbi-ai-model/res/archive_300x300_30class/dogImages/dogImages/valid',\n",
    "    #'res\\\\archive_300x300_30class\\dogImages\\dogImages\\\\valid',\n",
    "    target_size=(300, 300),\n",
    "    batch_size=32,\n",
    "    class_mode='categorical')"
   ]
  },
  {
   "cell_type": "code",
   "execution_count": null,
   "metadata": {},
   "outputs": [],
   "source": [
    "model = keras.Sequential([\n",
    "        Conv2D(filters=32, kernel_size=(3, 3), strides=(1, 1), padding=\"same\", activation='relu', input_shape=(300, 300, 3)),#300\n",
    "        MaxPooling2D((3, 3)),\n",
    "        Conv2D(filters=32, kernel_size=(3, 3), strides=(1, 1), padding=\"same\", activation='relu'),#100\n",
    "        MaxPooling2D((3, 3)),\n",
    "        Conv2D(filters=32, kernel_size=(3, 3), strides=(1, 1), padding=\"same\", activation='relu'),#33\n",
    "        MaxPooling2D((3, 3)),\n",
    "        Conv2D(filters=64, kernel_size=(3, 3), strides=(1, 1), padding=\"same\", activation='relu'),#11\n",
    "        MaxPooling2D((3, 3)),\n",
    "        Conv2D(filters=64, kernel_size=(3, 3), strides=(1, 1), padding=\"same\", activation='relu'),#3\n",
    "        MaxPooling2D((3, 3)),\n",
    "        Flatten(),\n",
    "        Dense(units=50, activation=\"relu\"),\n",
    "        Dropout(0.5),\n",
    "        Dense(units=50, activation=\"relu\"),\n",
    "        Dropout(0.5),\n",
    "        Dense(units=30, activation=\"softmax\")\n",
    "    ])\n",
    "\n",
    "model.summary()\n",
    "\n",
    "optimizer = keras.optimizers.Adam(learning_rate=0.001)\n",
    "\n",
    "model.compile(\n",
    "    loss='categorical_crossentropy',\n",
    "    optimizer=optimizer,\n",
    "    metrics=['accuracy']\n",
    ")"
   ]
  },
  {
   "cell_type": "code",
   "execution_count": null,
   "metadata": {},
   "outputs": [],
   "source": [
    "checkpoint = ModelCheckpoint('best_weights.h5', save_best_only=True, save_weights_only=True, monitor='val_loss', mode='min', verbose=1)"
   ]
  },
  {
   "cell_type": "code",
   "execution_count": null,
   "metadata": {},
   "outputs": [],
   "source": [
    "model.load_weights(\"best_weights.h5\")"
   ]
  },
  {
   "cell_type": "code",
   "execution_count": null,
   "metadata": {},
   "outputs": [],
   "source": [
    "model_result = model.fit(train_generator,\n",
    "                         epochs=20,\n",
    "                         validation_data=valid_generator,\n",
    "                         #validation_data=(valid_input, valid_output)\n",
    "                         callbacks=[checkpoint]\n",
    "                         )"
   ]
  },
  {
   "cell_type": "code",
   "execution_count": null,
   "metadata": {},
   "outputs": [],
   "source": [
    "model.evaluate(train_generator)"
   ]
  },
  {
   "cell_type": "code",
   "execution_count": null,
   "metadata": {},
   "outputs": [],
   "source": [
    "model.evaluate(valid_generator)"
   ]
  },
  {
   "cell_type": "code",
   "execution_count": null,
   "metadata": {},
   "outputs": [],
   "source": [
    "test_generator = datagen.flow_from_directory(\n",
    "    #'res\\\\archive_300x300_30class\\dogImages\\dogImages\\\\test',\n",
    "    '/mnt/d/My projects/programs/Python projects/dbi-ai-model/res/archive_300x300_30class/dogImages/dogImages/test',\n",
    "    target_size=(300, 300),\n",
    "    batch_size=32,\n",
    "    class_mode='categorical')\n",
    "\n",
    "model.evaluate(test_generator)"
   ]
  },
  {
   "cell_type": "code",
   "execution_count": null,
   "metadata": {},
   "outputs": [],
   "source": [
    "plt.plot(model_result.history['loss'], label='Тренувальні втрати')\n",
    "plt.plot(model_result.history['val_loss'], label='Валідаційні втрати')\n",
    "plt.xlabel('Епоха')\n",
    "plt.ylabel('Втрати')\n",
    "plt.legend()\n",
    "plt.show()\n",
    "\n",
    "plt.plot(model_result.history['accuracy'], label='Тренувальна точність')\n",
    "plt.plot(model_result.history['val_accuracy'], label='Валідаційна точність')\n",
    "plt.xlabel('Епоха')\n",
    "plt.ylabel('Точність')\n",
    "plt.legend()\n",
    "plt.show()"
   ]
  }
 ],
 "metadata": {
  "kernelspec": {
   "display_name": "Python 3 (ipykernel)",
   "language": "python",
   "name": "python3"
  },
  "language_info": {
   "codemirror_mode": {
    "name": "ipython",
    "version": 3
   },
   "file_extension": ".py",
   "mimetype": "text/x-python",
   "name": "python",
   "nbconvert_exporter": "python",
   "pygments_lexer": "ipython3",
   "version": "3.10.12"
  }
 },
 "nbformat": 4,
 "nbformat_minor": 2
}
